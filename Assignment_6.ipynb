{
  "nbformat": 4,
  "nbformat_minor": 0,
  "metadata": {
    "colab": {
      "name": "Assignment--6",
      "provenance": [],
      "collapsed_sections": [],
      "include_colab_link": true
    },
    "kernelspec": {
      "name": "python3",
      "display_name": "Python 3"
    },
    "language_info": {
      "name": "python"
    },
    "accelerator": "GPU"
  },
  "cells": [
    {
      "cell_type": "markdown",
      "metadata": {
        "id": "view-in-github",
        "colab_type": "text"
      },
      "source": [
        "<a href=\"https://colab.research.google.com/github/Gyany29/gyany_29/blob/main/Assignment_6.ipynb\" target=\"_parent\"><img src=\"https://colab.research.google.com/assets/colab-badge.svg\" alt=\"Open In Colab\"/></a>"
      ]
    },
    {
      "cell_type": "code",
      "metadata": {
        "colab": {
          "base_uri": "https://localhost:8080/"
        },
        "id": "rTzLJnIqHhEC",
        "outputId": "85b59128-cdf3-4f59-d924-3a9a26e3634d"
      },
      "source": [
        "from google.colab import drive\n",
        "drive.mount('/content/drive')"
      ],
      "execution_count": 1,
      "outputs": [
        {
          "output_type": "stream",
          "name": "stdout",
          "text": [
            "Mounted at /content/drive\n"
          ]
        }
      ]
    },
    {
      "cell_type": "code",
      "metadata": {
        "id": "IArqCLFbIeP4"
      },
      "source": [
        "import numpy as np\n",
        "import math as mt\n",
        "import random\n",
        "import pandas as pd"
      ],
      "execution_count": 2,
      "outputs": []
    },
    {
      "cell_type": "code",
      "metadata": {
        "colab": {
          "base_uri": "https://localhost:8080/",
          "height": 203
        },
        "id": "DqNY-ZlJIiJ6",
        "outputId": "f49383dc-fc5b-4c55-a9df-b6fa52feb46b"
      },
      "source": [
        "data = pd.read_csv('/content/drive/MyDrive/assi4.csv')\n",
        "data.head()"
      ],
      "execution_count": 3,
      "outputs": [
        {
          "output_type": "execute_result",
          "data": {
            "text/html": [
              "<div>\n",
              "<style scoped>\n",
              "    .dataframe tbody tr th:only-of-type {\n",
              "        vertical-align: middle;\n",
              "    }\n",
              "\n",
              "    .dataframe tbody tr th {\n",
              "        vertical-align: top;\n",
              "    }\n",
              "\n",
              "    .dataframe thead th {\n",
              "        text-align: right;\n",
              "    }\n",
              "</style>\n",
              "<table border=\"1\" class=\"dataframe\">\n",
              "  <thead>\n",
              "    <tr style=\"text-align: right;\">\n",
              "      <th></th>\n",
              "      <th>X</th>\n",
              "      <th>Y</th>\n",
              "    </tr>\n",
              "  </thead>\n",
              "  <tbody>\n",
              "    <tr>\n",
              "      <th>0</th>\n",
              "      <td>7.6</td>\n",
              "      <td>157</td>\n",
              "    </tr>\n",
              "    <tr>\n",
              "      <th>1</th>\n",
              "      <td>7.1</td>\n",
              "      <td>174</td>\n",
              "    </tr>\n",
              "    <tr>\n",
              "      <th>2</th>\n",
              "      <td>8.2</td>\n",
              "      <td>175</td>\n",
              "    </tr>\n",
              "    <tr>\n",
              "      <th>3</th>\n",
              "      <td>7.5</td>\n",
              "      <td>188</td>\n",
              "    </tr>\n",
              "    <tr>\n",
              "      <th>4</th>\n",
              "      <td>7.4</td>\n",
              "      <td>171</td>\n",
              "    </tr>\n",
              "  </tbody>\n",
              "</table>\n",
              "</div>"
            ],
            "text/plain": [
              "     X    Y\n",
              "0  7.6  157\n",
              "1  7.1  174\n",
              "2  8.2  175\n",
              "3  7.5  188\n",
              "4  7.4  171"
            ]
          },
          "metadata": {},
          "execution_count": 3
        }
      ]
    },
    {
      "cell_type": "code",
      "metadata": {
        "colab": {
          "base_uri": "https://localhost:8080/"
        },
        "id": "kuzSjmdLJidH",
        "outputId": "83c2187b-d279-4d70-ae1c-23d6d166042c"
      },
      "source": [
        "data['X']"
      ],
      "execution_count": 4,
      "outputs": [
        {
          "output_type": "execute_result",
          "data": {
            "text/plain": [
              "0     7.6\n",
              "1     7.1\n",
              "2     8.2\n",
              "3     7.5\n",
              "4     7.4\n",
              "5     7.8\n",
              "6     7.3\n",
              "7     8.0\n",
              "8     7.1\n",
              "9     7.5\n",
              "10    8.1\n",
              "11    7.0\n",
              "12    7.3\n",
              "13    7.8\n",
              "14    7.3\n",
              "15    8.0\n",
              "16    8.5\n",
              "17    7.1\n",
              "18    8.2\n",
              "19    7.9\n",
              "20    7.6\n",
              "21    8.8\n",
              "22    7.2\n",
              "23    7.9\n",
              "24    8.1\n",
              "25    7.7\n",
              "26    8.4\n",
              "27    7.4\n",
              "28    7.3\n",
              "29    8.5\n",
              "30    7.8\n",
              "31    6.7\n",
              "32    7.1\n",
              "33    7.3\n",
              "Name: X, dtype: float64"
            ]
          },
          "metadata": {},
          "execution_count": 4
        }
      ]
    },
    {
      "cell_type": "code",
      "metadata": {
        "id": "ZDeh6XNaJwX-"
      },
      "source": [
        "outliers = []\n",
        "def detect_outliers_zscore(data):\n",
        "    thres = 3\n",
        "    mean = np.mean(data)\n",
        "    std = np.std(data)\n",
        "    # print(mean, std)\n",
        "    for i in data:\n",
        "        z_score = (i-mean)/std\n",
        "        if (np.abs(z_score) > thres):\n",
        "            outliers.append(i)\n",
        "    return outliers# Driver code"
      ],
      "execution_count": 5,
      "outputs": []
    },
    {
      "cell_type": "code",
      "metadata": {
        "colab": {
          "base_uri": "https://localhost:8080/"
        },
        "id": "QC0lEKwYKZQZ",
        "outputId": "87e7db6d-afeb-485a-ec38-9944982692d7"
      },
      "source": [
        "sample_outliers_X = detect_outliers_zscore(data['X'])\n",
        "sample_outliers_Y = detect_outliers_zscore(data['Y'])\n",
        "print(\"Outliers in X column from Z-scores method: \", sample_outliers_X)\n",
        "print(\"Outliers in Y column from Z-scores method: \", sample_outliers_Y)"
      ],
      "execution_count": 6,
      "outputs": [
        {
          "output_type": "stream",
          "name": "stdout",
          "text": [
            "Outliers in X column from Z-scores method:  []\n",
            "Outliers in Y column from Z-scores method:  []\n"
          ]
        }
      ]
    },
    {
      "cell_type": "code",
      "metadata": {
        "colab": {
          "base_uri": "https://localhost:8080/",
          "height": 1000
        },
        "id": "xolRa4EvKmRx",
        "outputId": "82f6d647-fb88-4093-beb1-374fd0a468c7"
      },
      "source": [
        "from scipy.stats import zscore\n",
        "zX = np.abs(zscore(data['X']))\n",
        "zY = np.abs(zscore(data['Y']))\n",
        "data['ZscoreX'] = zX\n",
        "data['ZscoreY'] = zY\n",
        "outliers_X=len(data[data['ZscoreX']>3])\n",
        "outliers_Y=len(data[data['ZscoreY']>3])\n",
        "data_z = data[data['ZscoreX']<3]\n",
        "data=data_z.drop(['ZscoreX', 'ZscoreY'], axis=1)\n",
        "data"
      ],
      "execution_count": 7,
      "outputs": [
        {
          "output_type": "execute_result",
          "data": {
            "text/html": [
              "<div>\n",
              "<style scoped>\n",
              "    .dataframe tbody tr th:only-of-type {\n",
              "        vertical-align: middle;\n",
              "    }\n",
              "\n",
              "    .dataframe tbody tr th {\n",
              "        vertical-align: top;\n",
              "    }\n",
              "\n",
              "    .dataframe thead th {\n",
              "        text-align: right;\n",
              "    }\n",
              "</style>\n",
              "<table border=\"1\" class=\"dataframe\">\n",
              "  <thead>\n",
              "    <tr style=\"text-align: right;\">\n",
              "      <th></th>\n",
              "      <th>X</th>\n",
              "      <th>Y</th>\n",
              "    </tr>\n",
              "  </thead>\n",
              "  <tbody>\n",
              "    <tr>\n",
              "      <th>0</th>\n",
              "      <td>7.6</td>\n",
              "      <td>157</td>\n",
              "    </tr>\n",
              "    <tr>\n",
              "      <th>1</th>\n",
              "      <td>7.1</td>\n",
              "      <td>174</td>\n",
              "    </tr>\n",
              "    <tr>\n",
              "      <th>2</th>\n",
              "      <td>8.2</td>\n",
              "      <td>175</td>\n",
              "    </tr>\n",
              "    <tr>\n",
              "      <th>3</th>\n",
              "      <td>7.5</td>\n",
              "      <td>188</td>\n",
              "    </tr>\n",
              "    <tr>\n",
              "      <th>4</th>\n",
              "      <td>7.4</td>\n",
              "      <td>171</td>\n",
              "    </tr>\n",
              "    <tr>\n",
              "      <th>5</th>\n",
              "      <td>7.8</td>\n",
              "      <td>143</td>\n",
              "    </tr>\n",
              "    <tr>\n",
              "      <th>6</th>\n",
              "      <td>7.3</td>\n",
              "      <td>217</td>\n",
              "    </tr>\n",
              "    <tr>\n",
              "      <th>7</th>\n",
              "      <td>8.0</td>\n",
              "      <td>190</td>\n",
              "    </tr>\n",
              "    <tr>\n",
              "      <th>8</th>\n",
              "      <td>7.1</td>\n",
              "      <td>142</td>\n",
              "    </tr>\n",
              "    <tr>\n",
              "      <th>9</th>\n",
              "      <td>7.5</td>\n",
              "      <td>190</td>\n",
              "    </tr>\n",
              "    <tr>\n",
              "      <th>10</th>\n",
              "      <td>8.1</td>\n",
              "      <td>215</td>\n",
              "    </tr>\n",
              "    <tr>\n",
              "      <th>11</th>\n",
              "      <td>7.0</td>\n",
              "      <td>199</td>\n",
              "    </tr>\n",
              "    <tr>\n",
              "      <th>12</th>\n",
              "      <td>7.3</td>\n",
              "      <td>262</td>\n",
              "    </tr>\n",
              "    <tr>\n",
              "      <th>13</th>\n",
              "      <td>7.8</td>\n",
              "      <td>105</td>\n",
              "    </tr>\n",
              "    <tr>\n",
              "      <th>14</th>\n",
              "      <td>7.3</td>\n",
              "      <td>121</td>\n",
              "    </tr>\n",
              "    <tr>\n",
              "      <th>15</th>\n",
              "      <td>8.0</td>\n",
              "      <td>81</td>\n",
              "    </tr>\n",
              "    <tr>\n",
              "      <th>16</th>\n",
              "      <td>8.5</td>\n",
              "      <td>82</td>\n",
              "    </tr>\n",
              "    <tr>\n",
              "      <th>17</th>\n",
              "      <td>7.1</td>\n",
              "      <td>210</td>\n",
              "    </tr>\n",
              "    <tr>\n",
              "      <th>18</th>\n",
              "      <td>8.2</td>\n",
              "      <td>202</td>\n",
              "    </tr>\n",
              "    <tr>\n",
              "      <th>19</th>\n",
              "      <td>7.9</td>\n",
              "      <td>155</td>\n",
              "    </tr>\n",
              "    <tr>\n",
              "      <th>20</th>\n",
              "      <td>7.6</td>\n",
              "      <td>157</td>\n",
              "    </tr>\n",
              "    <tr>\n",
              "      <th>21</th>\n",
              "      <td>8.8</td>\n",
              "      <td>147</td>\n",
              "    </tr>\n",
              "    <tr>\n",
              "      <th>22</th>\n",
              "      <td>7.2</td>\n",
              "      <td>133</td>\n",
              "    </tr>\n",
              "    <tr>\n",
              "      <th>23</th>\n",
              "      <td>7.9</td>\n",
              "      <td>53</td>\n",
              "    </tr>\n",
              "    <tr>\n",
              "      <th>24</th>\n",
              "      <td>8.1</td>\n",
              "      <td>56</td>\n",
              "    </tr>\n",
              "    <tr>\n",
              "      <th>25</th>\n",
              "      <td>7.7</td>\n",
              "      <td>113</td>\n",
              "    </tr>\n",
              "    <tr>\n",
              "      <th>26</th>\n",
              "      <td>8.4</td>\n",
              "      <td>35</td>\n",
              "    </tr>\n",
              "    <tr>\n",
              "      <th>27</th>\n",
              "      <td>7.4</td>\n",
              "      <td>125</td>\n",
              "    </tr>\n",
              "    <tr>\n",
              "      <th>28</th>\n",
              "      <td>7.3</td>\n",
              "      <td>76</td>\n",
              "    </tr>\n",
              "    <tr>\n",
              "      <th>29</th>\n",
              "      <td>8.5</td>\n",
              "      <td>48</td>\n",
              "    </tr>\n",
              "    <tr>\n",
              "      <th>30</th>\n",
              "      <td>7.8</td>\n",
              "      <td>147</td>\n",
              "    </tr>\n",
              "    <tr>\n",
              "      <th>31</th>\n",
              "      <td>6.7</td>\n",
              "      <td>117</td>\n",
              "    </tr>\n",
              "    <tr>\n",
              "      <th>32</th>\n",
              "      <td>7.1</td>\n",
              "      <td>182</td>\n",
              "    </tr>\n",
              "    <tr>\n",
              "      <th>33</th>\n",
              "      <td>7.3</td>\n",
              "      <td>87</td>\n",
              "    </tr>\n",
              "  </tbody>\n",
              "</table>\n",
              "</div>"
            ],
            "text/plain": [
              "      X    Y\n",
              "0   7.6  157\n",
              "1   7.1  174\n",
              "2   8.2  175\n",
              "3   7.5  188\n",
              "4   7.4  171\n",
              "5   7.8  143\n",
              "6   7.3  217\n",
              "7   8.0  190\n",
              "8   7.1  142\n",
              "9   7.5  190\n",
              "10  8.1  215\n",
              "11  7.0  199\n",
              "12  7.3  262\n",
              "13  7.8  105\n",
              "14  7.3  121\n",
              "15  8.0   81\n",
              "16  8.5   82\n",
              "17  7.1  210\n",
              "18  8.2  202\n",
              "19  7.9  155\n",
              "20  7.6  157\n",
              "21  8.8  147\n",
              "22  7.2  133\n",
              "23  7.9   53\n",
              "24  8.1   56\n",
              "25  7.7  113\n",
              "26  8.4   35\n",
              "27  7.4  125\n",
              "28  7.3   76\n",
              "29  8.5   48\n",
              "30  7.8  147\n",
              "31  6.7  117\n",
              "32  7.1  182\n",
              "33  7.3   87"
            ]
          },
          "metadata": {},
          "execution_count": 7
        }
      ]
    },
    {
      "cell_type": "code",
      "metadata": {
        "colab": {
          "base_uri": "https://localhost:8080/"
        },
        "id": "Cmv3c6wUKqXB",
        "outputId": "1282fd0c-a489-46d6-d2ad-7901a5e930d6"
      },
      "source": [
        "print(data.isnull().sum())"
      ],
      "execution_count": 8,
      "outputs": [
        {
          "output_type": "stream",
          "name": "stdout",
          "text": [
            "X    0\n",
            "Y    0\n",
            "dtype: int64\n"
          ]
        }
      ]
    },
    {
      "cell_type": "code",
      "metadata": {
        "colab": {
          "base_uri": "https://localhost:8080/",
          "height": 1000
        },
        "id": "YiHSrZZhK6UG",
        "outputId": "9a1b9a60-b9b3-474f-94e6-83ace04fe53a"
      },
      "source": [
        "m1=data['X'].mean()\n",
        "m2=data['Y'].mean()\n",
        "data['X'].fillna(value=m1, inplace=True)\n",
        "data['Y'].fillna(value=m2, inplace=True)\n",
        "data"
      ],
      "execution_count": 9,
      "outputs": [
        {
          "output_type": "execute_result",
          "data": {
            "text/html": [
              "<div>\n",
              "<style scoped>\n",
              "    .dataframe tbody tr th:only-of-type {\n",
              "        vertical-align: middle;\n",
              "    }\n",
              "\n",
              "    .dataframe tbody tr th {\n",
              "        vertical-align: top;\n",
              "    }\n",
              "\n",
              "    .dataframe thead th {\n",
              "        text-align: right;\n",
              "    }\n",
              "</style>\n",
              "<table border=\"1\" class=\"dataframe\">\n",
              "  <thead>\n",
              "    <tr style=\"text-align: right;\">\n",
              "      <th></th>\n",
              "      <th>X</th>\n",
              "      <th>Y</th>\n",
              "    </tr>\n",
              "  </thead>\n",
              "  <tbody>\n",
              "    <tr>\n",
              "      <th>0</th>\n",
              "      <td>7.6</td>\n",
              "      <td>157</td>\n",
              "    </tr>\n",
              "    <tr>\n",
              "      <th>1</th>\n",
              "      <td>7.1</td>\n",
              "      <td>174</td>\n",
              "    </tr>\n",
              "    <tr>\n",
              "      <th>2</th>\n",
              "      <td>8.2</td>\n",
              "      <td>175</td>\n",
              "    </tr>\n",
              "    <tr>\n",
              "      <th>3</th>\n",
              "      <td>7.5</td>\n",
              "      <td>188</td>\n",
              "    </tr>\n",
              "    <tr>\n",
              "      <th>4</th>\n",
              "      <td>7.4</td>\n",
              "      <td>171</td>\n",
              "    </tr>\n",
              "    <tr>\n",
              "      <th>5</th>\n",
              "      <td>7.8</td>\n",
              "      <td>143</td>\n",
              "    </tr>\n",
              "    <tr>\n",
              "      <th>6</th>\n",
              "      <td>7.3</td>\n",
              "      <td>217</td>\n",
              "    </tr>\n",
              "    <tr>\n",
              "      <th>7</th>\n",
              "      <td>8.0</td>\n",
              "      <td>190</td>\n",
              "    </tr>\n",
              "    <tr>\n",
              "      <th>8</th>\n",
              "      <td>7.1</td>\n",
              "      <td>142</td>\n",
              "    </tr>\n",
              "    <tr>\n",
              "      <th>9</th>\n",
              "      <td>7.5</td>\n",
              "      <td>190</td>\n",
              "    </tr>\n",
              "    <tr>\n",
              "      <th>10</th>\n",
              "      <td>8.1</td>\n",
              "      <td>215</td>\n",
              "    </tr>\n",
              "    <tr>\n",
              "      <th>11</th>\n",
              "      <td>7.0</td>\n",
              "      <td>199</td>\n",
              "    </tr>\n",
              "    <tr>\n",
              "      <th>12</th>\n",
              "      <td>7.3</td>\n",
              "      <td>262</td>\n",
              "    </tr>\n",
              "    <tr>\n",
              "      <th>13</th>\n",
              "      <td>7.8</td>\n",
              "      <td>105</td>\n",
              "    </tr>\n",
              "    <tr>\n",
              "      <th>14</th>\n",
              "      <td>7.3</td>\n",
              "      <td>121</td>\n",
              "    </tr>\n",
              "    <tr>\n",
              "      <th>15</th>\n",
              "      <td>8.0</td>\n",
              "      <td>81</td>\n",
              "    </tr>\n",
              "    <tr>\n",
              "      <th>16</th>\n",
              "      <td>8.5</td>\n",
              "      <td>82</td>\n",
              "    </tr>\n",
              "    <tr>\n",
              "      <th>17</th>\n",
              "      <td>7.1</td>\n",
              "      <td>210</td>\n",
              "    </tr>\n",
              "    <tr>\n",
              "      <th>18</th>\n",
              "      <td>8.2</td>\n",
              "      <td>202</td>\n",
              "    </tr>\n",
              "    <tr>\n",
              "      <th>19</th>\n",
              "      <td>7.9</td>\n",
              "      <td>155</td>\n",
              "    </tr>\n",
              "    <tr>\n",
              "      <th>20</th>\n",
              "      <td>7.6</td>\n",
              "      <td>157</td>\n",
              "    </tr>\n",
              "    <tr>\n",
              "      <th>21</th>\n",
              "      <td>8.8</td>\n",
              "      <td>147</td>\n",
              "    </tr>\n",
              "    <tr>\n",
              "      <th>22</th>\n",
              "      <td>7.2</td>\n",
              "      <td>133</td>\n",
              "    </tr>\n",
              "    <tr>\n",
              "      <th>23</th>\n",
              "      <td>7.9</td>\n",
              "      <td>53</td>\n",
              "    </tr>\n",
              "    <tr>\n",
              "      <th>24</th>\n",
              "      <td>8.1</td>\n",
              "      <td>56</td>\n",
              "    </tr>\n",
              "    <tr>\n",
              "      <th>25</th>\n",
              "      <td>7.7</td>\n",
              "      <td>113</td>\n",
              "    </tr>\n",
              "    <tr>\n",
              "      <th>26</th>\n",
              "      <td>8.4</td>\n",
              "      <td>35</td>\n",
              "    </tr>\n",
              "    <tr>\n",
              "      <th>27</th>\n",
              "      <td>7.4</td>\n",
              "      <td>125</td>\n",
              "    </tr>\n",
              "    <tr>\n",
              "      <th>28</th>\n",
              "      <td>7.3</td>\n",
              "      <td>76</td>\n",
              "    </tr>\n",
              "    <tr>\n",
              "      <th>29</th>\n",
              "      <td>8.5</td>\n",
              "      <td>48</td>\n",
              "    </tr>\n",
              "    <tr>\n",
              "      <th>30</th>\n",
              "      <td>7.8</td>\n",
              "      <td>147</td>\n",
              "    </tr>\n",
              "    <tr>\n",
              "      <th>31</th>\n",
              "      <td>6.7</td>\n",
              "      <td>117</td>\n",
              "    </tr>\n",
              "    <tr>\n",
              "      <th>32</th>\n",
              "      <td>7.1</td>\n",
              "      <td>182</td>\n",
              "    </tr>\n",
              "    <tr>\n",
              "      <th>33</th>\n",
              "      <td>7.3</td>\n",
              "      <td>87</td>\n",
              "    </tr>\n",
              "  </tbody>\n",
              "</table>\n",
              "</div>"
            ],
            "text/plain": [
              "      X    Y\n",
              "0   7.6  157\n",
              "1   7.1  174\n",
              "2   8.2  175\n",
              "3   7.5  188\n",
              "4   7.4  171\n",
              "5   7.8  143\n",
              "6   7.3  217\n",
              "7   8.0  190\n",
              "8   7.1  142\n",
              "9   7.5  190\n",
              "10  8.1  215\n",
              "11  7.0  199\n",
              "12  7.3  262\n",
              "13  7.8  105\n",
              "14  7.3  121\n",
              "15  8.0   81\n",
              "16  8.5   82\n",
              "17  7.1  210\n",
              "18  8.2  202\n",
              "19  7.9  155\n",
              "20  7.6  157\n",
              "21  8.8  147\n",
              "22  7.2  133\n",
              "23  7.9   53\n",
              "24  8.1   56\n",
              "25  7.7  113\n",
              "26  8.4   35\n",
              "27  7.4  125\n",
              "28  7.3   76\n",
              "29  8.5   48\n",
              "30  7.8  147\n",
              "31  6.7  117\n",
              "32  7.1  182\n",
              "33  7.3   87"
            ]
          },
          "metadata": {},
          "execution_count": 9
        }
      ]
    },
    {
      "cell_type": "code",
      "metadata": {
        "id": "n11D8FZ-K9Zs"
      },
      "source": [
        "from sklearn.model_selection import train_test_split\n",
        "x_train, x_test, y_train, y_test = train_test_split(data.X, data.Y, test_size = 0.20, random_state = 10)"
      ],
      "execution_count": 10,
      "outputs": []
    },
    {
      "cell_type": "code",
      "metadata": {
        "id": "PGflbmuhLLHL"
      },
      "source": [
        "m1=random.uniform(-10,10)\n",
        "m2=random.uniform(-10,10)\n",
        "c=random.uniform(-10,10)\n",
        "eta=0.0001\n",
        "max_iter=100000"
      ],
      "execution_count": 11,
      "outputs": []
    },
    {
      "cell_type": "code",
      "metadata": {
        "id": "L1qkpCcpLYiR"
      },
      "source": [
        "def gradient(m1,m2,c,x,y):\n",
        "  m1_deriv=-1*(y-m1*x*x-m2*x-c)*x*x\n",
        "  m2_deriv=-1*(y-m1*x*x-m2*x-c)*x\n",
        "  c_deriv=-1*(y-m1*x*x-m2*x-c)\n",
        "  return m1_deriv,m2_deriv,c_deriv"
      ],
      "execution_count": 12,
      "outputs": []
    },
    {
      "cell_type": "code",
      "metadata": {
        "colab": {
          "base_uri": "https://localhost:8080/"
        },
        "id": "rCv7-Es8Ri9Z",
        "outputId": "18e7e709-d350-4e6f-ab75-b040dcc774d6"
      },
      "source": [
        "for iter in range(max_iter):\n",
        "  for sample in range(x_train.shape[0]):\n",
        "    del_m1,del_m2,del_c=gradient(m1, m2, c, x_train.iloc[sample], y_train.iloc[sample])\n",
        "    m1=m1-eta*del_m1\n",
        "    m2=m2-eta*del_m2\n",
        "    c=c-eta*del_c\n",
        "print('model parameter m1, m2 and c',m1,m2,c)"
      ],
      "execution_count": 13,
      "outputs": [
        {
          "output_type": "stream",
          "name": "stdout",
          "text": [
            "model parameter m1, m2 and c -6.534835550324737 67.51527225610974 9.014636118529744\n"
          ]
        }
      ]
    },
    {
      "cell_type": "code",
      "metadata": {
        "id": "GXBrmV3qMl88"
      },
      "source": [
        "y_pred_train = []\n",
        "for i in x_train:\n",
        "  y_p_tr = (m1 * i*i)+(m2 * i) + c\n",
        "  y_pred_train.append(y_p_tr)\n",
        "y_pred_train = np.array(y_pred_train)"
      ],
      "execution_count": 14,
      "outputs": []
    },
    {
      "cell_type": "code",
      "metadata": {
        "id": "_pOJXZ4vVzid"
      },
      "source": [
        "y_pred_test = []\n",
        "for i in x_test:\n",
        "  y_p_te = (m1 * i*i)+(m2 * i) + c\n",
        "  y_pred_test.append(y_p_te)\n",
        "y_pred_test = np.array(y_pred_test)"
      ],
      "execution_count": 15,
      "outputs": []
    },
    {
      "cell_type": "code",
      "metadata": {
        "colab": {
          "base_uri": "https://localhost:8080/"
        },
        "id": "riB9_CbVNTH7",
        "outputId": "ba19d059-ad99-44b8-a3a7-89d269316e95"
      },
      "source": [
        "import math\n",
        "from sklearn.metrics import mean_squared_error \n",
        "from sklearn.metrics import mean_absolute_error\n",
        "\n",
        "\n",
        "#Training Accuracies\n",
        "rmse = math.sqrt(mean_squared_error(y_train, y_pred_train)) \n",
        "print('Root mean square error', rmse) \n",
        "mse = (mean_squared_error(y_train, y_pred_train)) \n",
        "print('Mean square error', mse) \n",
        "mae=mean_absolute_error(y_train, y_pred_train)\n",
        "print('Mean absolute error', mae)"
      ],
      "execution_count": 16,
      "outputs": [
        {
          "output_type": "stream",
          "name": "stdout",
          "text": [
            "Root mean square error 48.65181151305491\n",
            "Mean square error 2366.998763501822\n",
            "Mean absolute error 42.51227151585137\n"
          ]
        }
      ]
    },
    {
      "cell_type": "code",
      "metadata": {
        "colab": {
          "base_uri": "https://localhost:8080/"
        },
        "id": "pfa2D1AydaFA",
        "outputId": "172eef68-e301-4d0a-9a5b-87ea995a225e"
      },
      "source": [
        "#Testing Accuracies\n",
        "mse = (mean_squared_error(y_test, y_pred_test)) \n",
        "print('Mean square error', mse)\n",
        "mse = mt.sqrt(mean_squared_error(y_test, y_pred_test)) \n",
        "print('Root mean square error', mse)  \n",
        "mae=mean_absolute_error(y_test, y_pred_test)\n",
        "print('Mean absolute error', mae)"
      ],
      "execution_count": 17,
      "outputs": [
        {
          "output_type": "stream",
          "name": "stdout",
          "text": [
            "Mean square error 3821.523760391084\n",
            "Root mean square error 61.81847426450352\n",
            "Mean absolute error 52.75375374842228\n"
          ]
        }
      ]
    },
    {
      "cell_type": "code",
      "metadata": {
        "colab": {
          "base_uri": "https://localhost:8080/"
        },
        "id": "rBQl5hg8dqF8",
        "outputId": "2e3dd93d-d8c1-4fb9-8377-12a7c9beee90"
      },
      "source": [
        "x=input(\"Enter value of input\")\n",
        "estimation=m1*float(x)*float(x)+m2*float(x)+c\n",
        "print(\"estimated output:\",estimation)"
      ],
      "execution_count": 18,
      "outputs": [
        {
          "output_type": "stream",
          "name": "stdout",
          "text": [
            "Enter value of input7\n",
            "estimated output: 161.41459994538585\n"
          ]
        }
      ]
    }
  ]
}