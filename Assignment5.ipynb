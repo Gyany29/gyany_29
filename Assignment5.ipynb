{
  "nbformat": 4,
  "nbformat_minor": 0,
  "metadata": {
    "colab": {
      "name": "Assignment5.ipynb",
      "provenance": [],
      "collapsed_sections": [],
      "authorship_tag": "ABX9TyOGTQUf8fjFmyGmUhbf+Rnc",
      "include_colab_link": true
    },
    "kernelspec": {
      "name": "python3",
      "display_name": "Python 3"
    },
    "language_info": {
      "name": "python"
    }
  },
  "cells": [
    {
      "cell_type": "markdown",
      "metadata": {
        "id": "view-in-github",
        "colab_type": "text"
      },
      "source": [
        "<a href=\"https://colab.research.google.com/github/Gyany29/gyany_29/blob/main/Assignment5.ipynb\" target=\"_parent\"><img src=\"https://colab.research.google.com/assets/colab-badge.svg\" alt=\"Open In Colab\"/></a>"
      ]
    },
    {
      "cell_type": "markdown",
      "metadata": {
        "id": "k9UWJiniouCO"
      },
      "source": [
        "#Mount Google Drive"
      ]
    },
    {
      "cell_type": "code",
      "metadata": {
        "colab": {
          "base_uri": "https://localhost:8080/"
        },
        "id": "FkEVpWK27E2U",
        "outputId": "64c13626-edee-4911-bcc0-646cadd7ac48"
      },
      "source": [
        "from google.colab import drive\n",
        "drive.mount('/content/drive')"
      ],
      "execution_count": 2,
      "outputs": [
        {
          "output_type": "stream",
          "name": "stdout",
          "text": [
            "Mounted at /content/drive\n"
          ]
        }
      ]
    },
    {
      "cell_type": "markdown",
      "metadata": {
        "id": "9QmJosZ4o18g"
      },
      "source": [
        "#Import Libraries"
      ]
    },
    {
      "cell_type": "code",
      "metadata": {
        "id": "61Oagz8g-UK9"
      },
      "source": [
        "import numpy as np\n",
        "import math as mt\n",
        "import random\n",
        "import pandas as pd"
      ],
      "execution_count": 3,
      "outputs": []
    },
    {
      "cell_type": "markdown",
      "metadata": {
        "id": "I7Jc8dzGo5y-"
      },
      "source": [
        "#Load Data"
      ]
    },
    {
      "cell_type": "code",
      "metadata": {
        "colab": {
          "base_uri": "https://localhost:8080/",
          "height": 417
        },
        "id": "rzPhekya-cI8",
        "outputId": "dfd2c7c8-0522-4df0-9ec5-281c0f1d3e55"
      },
      "source": [
        "data = pd.read_csv('/content/drive/MyDrive/assi5.csv')\n",
        "data"
      ],
      "execution_count": 4,
      "outputs": [
        {
          "output_type": "execute_result",
          "data": {
            "text/html": [
              "<div>\n",
              "<style scoped>\n",
              "    .dataframe tbody tr th:only-of-type {\n",
              "        vertical-align: middle;\n",
              "    }\n",
              "\n",
              "    .dataframe tbody tr th {\n",
              "        vertical-align: top;\n",
              "    }\n",
              "\n",
              "    .dataframe thead th {\n",
              "        text-align: right;\n",
              "    }\n",
              "</style>\n",
              "<table border=\"1\" class=\"dataframe\">\n",
              "  <thead>\n",
              "    <tr style=\"text-align: right;\">\n",
              "      <th></th>\n",
              "      <th>Date</th>\n",
              "      <th>Time</th>\n",
              "      <th>Load (kW)</th>\n",
              "    </tr>\n",
              "  </thead>\n",
              "  <tbody>\n",
              "    <tr>\n",
              "      <th>0</th>\n",
              "      <td>01.09.2018</td>\n",
              "      <td>00:00</td>\n",
              "      <td>5551.82208</td>\n",
              "    </tr>\n",
              "    <tr>\n",
              "      <th>1</th>\n",
              "      <td>NaN</td>\n",
              "      <td>01:00</td>\n",
              "      <td>4983.17184</td>\n",
              "    </tr>\n",
              "    <tr>\n",
              "      <th>2</th>\n",
              "      <td>NaN</td>\n",
              "      <td>02:00</td>\n",
              "      <td>4888.39680</td>\n",
              "    </tr>\n",
              "    <tr>\n",
              "      <th>3</th>\n",
              "      <td>NaN</td>\n",
              "      <td>03:00</td>\n",
              "      <td>5072.95872</td>\n",
              "    </tr>\n",
              "    <tr>\n",
              "      <th>4</th>\n",
              "      <td>NaN</td>\n",
              "      <td>04:00</td>\n",
              "      <td>5196.25980</td>\n",
              "    </tr>\n",
              "    <tr>\n",
              "      <th>...</th>\n",
              "      <td>...</td>\n",
              "      <td>...</td>\n",
              "      <td>...</td>\n",
              "    </tr>\n",
              "    <tr>\n",
              "      <th>2179</th>\n",
              "      <td>NaN</td>\n",
              "      <td>19:00</td>\n",
              "      <td>4626.51840</td>\n",
              "    </tr>\n",
              "    <tr>\n",
              "      <th>2180</th>\n",
              "      <td>NaN</td>\n",
              "      <td>20:00</td>\n",
              "      <td>4567.90752</td>\n",
              "    </tr>\n",
              "    <tr>\n",
              "      <th>2181</th>\n",
              "      <td>NaN</td>\n",
              "      <td>21:00</td>\n",
              "      <td>4723.63164</td>\n",
              "    </tr>\n",
              "    <tr>\n",
              "      <th>2182</th>\n",
              "      <td>NaN</td>\n",
              "      <td>22:00</td>\n",
              "      <td>5150.27520</td>\n",
              "    </tr>\n",
              "    <tr>\n",
              "      <th>2183</th>\n",
              "      <td>NaN</td>\n",
              "      <td>23:00</td>\n",
              "      <td>6938.37468</td>\n",
              "    </tr>\n",
              "  </tbody>\n",
              "</table>\n",
              "<p>2184 rows × 3 columns</p>\n",
              "</div>"
            ],
            "text/plain": [
              "            Date   Time   Load (kW)\n",
              "0     01.09.2018  00:00  5551.82208\n",
              "1            NaN  01:00  4983.17184\n",
              "2            NaN  02:00  4888.39680\n",
              "3            NaN  03:00  5072.95872\n",
              "4            NaN  04:00  5196.25980\n",
              "...          ...    ...         ...\n",
              "2179         NaN  19:00  4626.51840\n",
              "2180         NaN  20:00  4567.90752\n",
              "2181         NaN  21:00  4723.63164\n",
              "2182         NaN  22:00  5150.27520\n",
              "2183         NaN  23:00  6938.37468\n",
              "\n",
              "[2184 rows x 3 columns]"
            ]
          },
          "metadata": {},
          "execution_count": 4
        }
      ]
    },
    {
      "cell_type": "code",
      "metadata": {
        "id": "MjC52ab1Wm2x"
      },
      "source": [
        "X1=[]\n",
        "X2=[]\n",
        "X3=[]\n",
        "Y=[]\n",
        "data=data['Load (kW)']\n",
        "for i in range(3,data.shape[0]):\n",
        "     X1.append(data.iloc[i-3])\n",
        "     X2.append(data.iloc[i-2])\n",
        "     X3.append(data.iloc[i-1])\n",
        "     Y.append(data.iloc[i])"
      ],
      "execution_count": 5,
      "outputs": []
    },
    {
      "cell_type": "code",
      "metadata": {
        "colab": {
          "base_uri": "https://localhost:8080/",
          "height": 203
        },
        "id": "AEq5skWPXCmf",
        "outputId": "d14bf723-7a9c-4614-d545-1ef1d9346305"
      },
      "source": [
        "data=pd.DataFrame({'L-3':X1,'L-2':X2,'L-1':X3,'L':Y})\n",
        "data.head()"
      ],
      "execution_count": 42,
      "outputs": [
        {
          "output_type": "execute_result",
          "data": {
            "text/html": [
              "<div>\n",
              "<style scoped>\n",
              "    .dataframe tbody tr th:only-of-type {\n",
              "        vertical-align: middle;\n",
              "    }\n",
              "\n",
              "    .dataframe tbody tr th {\n",
              "        vertical-align: top;\n",
              "    }\n",
              "\n",
              "    .dataframe thead th {\n",
              "        text-align: right;\n",
              "    }\n",
              "</style>\n",
              "<table border=\"1\" class=\"dataframe\">\n",
              "  <thead>\n",
              "    <tr style=\"text-align: right;\">\n",
              "      <th></th>\n",
              "      <th>L-3</th>\n",
              "      <th>L-2</th>\n",
              "      <th>L-1</th>\n",
              "      <th>L</th>\n",
              "    </tr>\n",
              "  </thead>\n",
              "  <tbody>\n",
              "    <tr>\n",
              "      <th>0</th>\n",
              "      <td>5551.82208</td>\n",
              "      <td>4983.17184</td>\n",
              "      <td>4888.39680</td>\n",
              "      <td>0.310234</td>\n",
              "    </tr>\n",
              "    <tr>\n",
              "      <th>1</th>\n",
              "      <td>4983.17184</td>\n",
              "      <td>4888.39680</td>\n",
              "      <td>5072.95872</td>\n",
              "      <td>0.332801</td>\n",
              "    </tr>\n",
              "    <tr>\n",
              "      <th>2</th>\n",
              "      <td>4888.39680</td>\n",
              "      <td>5072.95872</td>\n",
              "      <td>5196.25980</td>\n",
              "      <td>0.414254</td>\n",
              "    </tr>\n",
              "    <tr>\n",
              "      <th>3</th>\n",
              "      <td>5072.95872</td>\n",
              "      <td>5196.25980</td>\n",
              "      <td>5641.29720</td>\n",
              "      <td>0.690965</td>\n",
              "    </tr>\n",
              "    <tr>\n",
              "      <th>4</th>\n",
              "      <td>5196.25980</td>\n",
              "      <td>5641.29720</td>\n",
              "      <td>7153.17732</td>\n",
              "      <td>0.818465</td>\n",
              "    </tr>\n",
              "  </tbody>\n",
              "</table>\n",
              "</div>"
            ],
            "text/plain": [
              "          L-3         L-2         L-1         L\n",
              "0  5551.82208  4983.17184  4888.39680  0.310234\n",
              "1  4983.17184  4888.39680  5072.95872  0.332801\n",
              "2  4888.39680  5072.95872  5196.25980  0.414254\n",
              "3  5072.95872  5196.25980  5641.29720  0.690965\n",
              "4  5196.25980  5641.29720  7153.17732  0.818465"
            ]
          },
          "metadata": {},
          "execution_count": 42
        }
      ]
    },
    {
      "cell_type": "markdown",
      "metadata": {
        "id": "I5CDtnuupCor"
      },
      "source": [
        "#Normalization"
      ]
    },
    {
      "cell_type": "code",
      "metadata": {
        "id": "fBDMYEfacMgt"
      },
      "source": [
        "lt_3Max=np.max(X1)\n",
        "lt_2Max=np.max(X2)\n",
        "lt_1Max=np.max(X3)\n",
        "lt_0Max=np.max(Y)\n",
        "lt_3Min=np.min(X1)\n",
        "lt_2Min=np.min(X2)\n",
        "lt_1Min=np.min(X3)\n",
        "lt_0Min=np.min(Y)"
      ],
      "execution_count": 35,
      "outputs": []
    },
    {
      "cell_type": "code",
      "metadata": {
        "colab": {
          "base_uri": "https://localhost:8080/",
          "height": 203
        },
        "id": "ZSQAUQ71XKHU",
        "outputId": "075ab477-3aec-4525-a453-09c9214095ee"
      },
      "source": [
        "def normalize(column):\n",
        "    c_max,c_min=np.max(column),np.min(column)\n",
        "    for i in range(len(column)):\n",
        "        column.iloc[i]=(column.iloc[i]-c_min)/(c_max-c_min)\n",
        "    return c_max,c_min\n",
        "x1max,x1min=normalize(data['L-3'])\n",
        "x2max,x2min=normalize(data['L-2'])\n",
        "x3max,x3min=normalize(data['L-1'])\n",
        "ymax,ymin=normalize(data['L'])\n",
        "data.head()"
      ],
      "execution_count": 43,
      "outputs": [
        {
          "output_type": "execute_result",
          "data": {
            "text/html": [
              "<div>\n",
              "<style scoped>\n",
              "    .dataframe tbody tr th:only-of-type {\n",
              "        vertical-align: middle;\n",
              "    }\n",
              "\n",
              "    .dataframe tbody tr th {\n",
              "        vertical-align: top;\n",
              "    }\n",
              "\n",
              "    .dataframe thead th {\n",
              "        text-align: right;\n",
              "    }\n",
              "</style>\n",
              "<table border=\"1\" class=\"dataframe\">\n",
              "  <thead>\n",
              "    <tr style=\"text-align: right;\">\n",
              "      <th></th>\n",
              "      <th>L-3</th>\n",
              "      <th>L-2</th>\n",
              "      <th>L-1</th>\n",
              "      <th>L</th>\n",
              "    </tr>\n",
              "  </thead>\n",
              "  <tbody>\n",
              "    <tr>\n",
              "      <th>0</th>\n",
              "      <td>0.397877</td>\n",
              "      <td>0.293800</td>\n",
              "      <td>0.276454</td>\n",
              "      <td>0.310234</td>\n",
              "    </tr>\n",
              "    <tr>\n",
              "      <th>1</th>\n",
              "      <td>0.293800</td>\n",
              "      <td>0.276454</td>\n",
              "      <td>0.310234</td>\n",
              "      <td>0.332801</td>\n",
              "    </tr>\n",
              "    <tr>\n",
              "      <th>2</th>\n",
              "      <td>0.276454</td>\n",
              "      <td>0.310234</td>\n",
              "      <td>0.332801</td>\n",
              "      <td>0.414254</td>\n",
              "    </tr>\n",
              "    <tr>\n",
              "      <th>3</th>\n",
              "      <td>0.310234</td>\n",
              "      <td>0.332801</td>\n",
              "      <td>0.414254</td>\n",
              "      <td>0.690965</td>\n",
              "    </tr>\n",
              "    <tr>\n",
              "      <th>4</th>\n",
              "      <td>0.332801</td>\n",
              "      <td>0.414254</td>\n",
              "      <td>0.690965</td>\n",
              "      <td>0.818465</td>\n",
              "    </tr>\n",
              "  </tbody>\n",
              "</table>\n",
              "</div>"
            ],
            "text/plain": [
              "        L-3       L-2       L-1         L\n",
              "0  0.397877  0.293800  0.276454  0.310234\n",
              "1  0.293800  0.276454  0.310234  0.332801\n",
              "2  0.276454  0.310234  0.332801  0.414254\n",
              "3  0.310234  0.332801  0.414254  0.690965\n",
              "4  0.332801  0.414254  0.690965  0.818465"
            ]
          },
          "metadata": {},
          "execution_count": 43
        }
      ]
    },
    {
      "cell_type": "markdown",
      "metadata": {
        "id": "bIm6fEC0o_qV"
      },
      "source": [
        "#Missing Values Treatment"
      ]
    },
    {
      "cell_type": "code",
      "metadata": {
        "colab": {
          "base_uri": "https://localhost:8080/"
        },
        "id": "3FJvzi3ptF-5",
        "outputId": "a3109a19-6bd8-4017-bdab-1385419a0b3a"
      },
      "source": [
        "print(data.isnull().sum())"
      ],
      "execution_count": 44,
      "outputs": [
        {
          "output_type": "stream",
          "name": "stdout",
          "text": [
            "L-3    0\n",
            "L-2    0\n",
            "L-1    0\n",
            "L      0\n",
            "dtype: int64\n"
          ]
        }
      ]
    },
    {
      "cell_type": "markdown",
      "metadata": {
        "id": "VeTf4XG4pN_c"
      },
      "source": [
        "#Data Split"
      ]
    },
    {
      "cell_type": "code",
      "metadata": {
        "id": "bvCnFL8dXS2M"
      },
      "source": [
        "from sklearn.model_selection import train_test_split\n",
        "X=data[['L-3','L-2','L-1']]\n",
        "Y=data['L']\n",
        "x_train,x_test,y_train,y_test=train_test_split(X,Y,test_size=0.1,random_state=101)"
      ],
      "execution_count": 45,
      "outputs": []
    },
    {
      "cell_type": "markdown",
      "metadata": {
        "id": "DZdh8oQHpVHI"
      },
      "source": [
        "#Gradient Calculation"
      ]
    },
    {
      "cell_type": "code",
      "metadata": {
        "id": "E_srSPgI-cZ_"
      },
      "source": [
        "def gradient(m1,m2,m3,c,x1,x2,x3,y):\n",
        "    m1_deriv=-1*(y-m1*x1-m2*x2-m3*x3-c)*x1\n",
        "    m2_deriv=-1*(y-m1*x1-m2*x2-m3*x3-c)*x2\n",
        "    m3_deriv=-1*(y-m1*x1-m2*x2-m3*x3-c)*x3\n",
        "    c_deriv=-1*(y-m1*x1-m2*x2-m3*x3-c)\n",
        "    return m1_deriv,m2_deriv,m3_deriv,c_deriv"
      ],
      "execution_count": 46,
      "outputs": []
    },
    {
      "cell_type": "markdown",
      "metadata": {
        "id": "nVgrUvrbpReP"
      },
      "source": [
        "#Initialization"
      ]
    },
    {
      "cell_type": "code",
      "metadata": {
        "id": "4tPGUq8o-cj7"
      },
      "source": [
        "import random\n",
        "m1=random.uniform(-10,10)\n",
        "m2=random.uniform(-10,10)\n",
        "m3=random.uniform(-10,10)\n",
        "c=random.uniform(-10,10)\n",
        "eta=0.1\n",
        "max_iter=500"
      ],
      "execution_count": 47,
      "outputs": []
    },
    {
      "cell_type": "markdown",
      "metadata": {
        "id": "jdFsgRNrpZ6S"
      },
      "source": [
        "#Training Using Stochastic Gradient Descent Optimizer"
      ]
    },
    {
      "cell_type": "code",
      "metadata": {
        "id": "Z9GG9tl_-csY",
        "colab": {
          "base_uri": "https://localhost:8080/"
        },
        "outputId": "a5819494-ecda-4b0b-9bdb-f88fa6107b36"
      },
      "source": [
        "for iter in range(max_iter):\n",
        "    for i in range(x_train.shape[0]):\n",
        "        del_m1,del_m2,del_m3,del_c=gradient(m1,m2,m3,c,x_train.iat[i,0],x_train.iat[i,1],x_train.iat[i,2],y_train.iloc[i])\n",
        "        m1=m1-eta*del_m1\n",
        "        m2=m2-eta*del_m2\n",
        "        m3=m3-eta*del_m3\n",
        "        c=c-eta*del_c\n",
        "print('model parameter m and c',m1,m2,m3,c)"
      ],
      "execution_count": 48,
      "outputs": [
        {
          "output_type": "stream",
          "name": "stdout",
          "text": [
            "model parameter m and c -0.23128366799983113 -0.007745238430485392 0.9080113730757411 0.14143639495293978\n"
          ]
        }
      ]
    },
    {
      "cell_type": "markdown",
      "metadata": {
        "id": "yW4eq8ugpdK8"
      },
      "source": [
        "#Model Prediction on Training Data"
      ]
    },
    {
      "cell_type": "code",
      "metadata": {
        "id": "GAiJ69XeaVBg"
      },
      "source": [
        "y_pred_train = []\n",
        "for i in range(x_train.shape[0]):\n",
        "    y_p_tr = (m1 * x_train.iat[sample,0]) + c + (m2 *x_train.iat[sample,1] )+(m3*x_train.iat[sample,2])\n",
        "    y_pred_train.append(y_pred)\n",
        "y_pred_train = np.array(y_pred_train)"
      ],
      "execution_count": 27,
      "outputs": []
    },
    {
      "cell_type": "markdown",
      "metadata": {
        "id": "Rdv2TD_GpgZ-"
      },
      "source": [
        "#Model Prediction on Testing Data"
      ]
    },
    {
      "cell_type": "code",
      "metadata": {
        "id": "zSPwnQ5Q-c47"
      },
      "source": [
        "y_pred_test = []\n",
        "for i in range(x_test.shape[0]):\n",
        "    y_p_te = (m1 * Xtest.iat[sample,0]) + c + (m2 * Xtest.iat[sample,1])+(m3*Xtest.iat[sample,2])\n",
        "    y_pred_test.append(y_pred)\n",
        "y_pred_test = np.array(y_pred_test)"
      ],
      "execution_count": 29,
      "outputs": []
    },
    {
      "cell_type": "markdown",
      "metadata": {
        "id": "TwbucpdSpi_C"
      },
      "source": [
        "#DeNormalization"
      ]
    },
    {
      "cell_type": "code",
      "metadata": {
        "id": "BWRArT4C-c89"
      },
      "source": [
        "Xtrain['L(T-3)']=Xtrain['L(T-3)']*(x1max-x1min)+x1min\n",
        "Xtrain ['L(T-2)']=Xtrain ['L(T-2)']*(x2max-x2min)+x2min\n",
        "Xtrain ['L(T-1)']=Xtrain ['L(T-1)']*(x3max-x2min)+x3min\n",
        "Ytrain=Ytrain*(ymax-ymin)+ymin\n",
        "Xtest['L(T-3)']=Xtest['L(T-3)']*(x1max-x1min)+x1min\n",
        "Xtest['L(T-3)']=Xtest['L(T-2)']*(x2max-x2min)+x2min\n",
        "Xtest['L(T-3)']=Xtest['L(T-1)']*(x3max-x3min)+x3min\n",
        "Ytest=Ytest*(ymax-ymin)+ymin\n",
        "y_pred_train=np.multiply(y_pred_train,(ymax-ymin)+ymin)\n",
        "y_pred_test=np.multiply(y_pred_test,(ymax-ymin)+ymin)"
      ],
      "execution_count": 31,
      "outputs": []
    },
    {
      "cell_type": "markdown",
      "metadata": {
        "id": "gC2QK8IHpml6"
      },
      "source": [
        "#Error Metrics Calculation"
      ]
    },
    {
      "cell_type": "code",
      "metadata": {
        "id": "JM8NxBLZ-dA1"
      },
      "source": [
        "import math\n",
        "from sklearn.metrics import mean_squared_error \n",
        "from sklearn.metrics import mean_absolute_error"
      ],
      "execution_count": 32,
      "outputs": []
    },
    {
      "cell_type": "code",
      "metadata": {
        "id": "j-OkIbkN-dEz",
        "colab": {
          "base_uri": "https://localhost:8080/"
        },
        "outputId": "cdb73225-cf02-4565-d906-67280ad31e6b"
      },
      "source": [
        "#Training Accuracies\n",
        "rmse = math.sqrt(mean_squared_error(y_pred_train, Ytrain)) \n",
        "print('Root mean square error', rmse) \n",
        "mse = (mean_squared_error(y_pred_train,Ytrain)) \n",
        "print('Mean square error', mse) \n",
        "mae=mean_absolute_error(y_pred_train,Ytrain)\n",
        "print('Mean absolute error', mae)"
      ],
      "execution_count": 33,
      "outputs": [
        {
          "output_type": "stream",
          "name": "stdout",
          "text": [
            "Root mean square error 2243.5841298922433\n",
            "Mean square error 5033669.747904333\n",
            "Mean absolute error 1992.1079294427673\n"
          ]
        }
      ]
    },
    {
      "cell_type": "code",
      "metadata": {
        "id": "2mw_nztB-dIf",
        "colab": {
          "base_uri": "https://localhost:8080/"
        },
        "outputId": "8e37f151-797d-423c-d3fc-3c41d6b74932"
      },
      "source": [
        "#Testing Accuracies\n",
        "rmse = math.sqrt(mean_squared_error(y_pred_test,Ytest )) \n",
        "print('Root mean square error', rmse) \n",
        "mse = (mean_squared_error(y_pred_test,Ytest))\n",
        "print('Mean square error', mse) \n",
        "mae=mean_absolute_error(y_pred_test,Ytest)\n",
        "print('Mean absolute error', mae)"
      ],
      "execution_count": 34,
      "outputs": [
        {
          "output_type": "stream",
          "name": "stdout",
          "text": [
            "Root mean square error 2426.8669636364416\n",
            "Mean square error 5889683.259189961\n",
            "Mean absolute error 2144.6340371770743\n"
          ]
        }
      ]
    },
    {
      "cell_type": "markdown",
      "metadata": {
        "id": "yMlGvoZ-p9Ah"
      },
      "source": [
        "#Deployment"
      ]
    },
    {
      "cell_type": "code",
      "metadata": {
        "colab": {
          "base_uri": "https://localhost:8080/"
        },
        "id": "iDdPay3-p_B2",
        "outputId": "81901b61-c384-4498-c9cb-87dc3e03c640"
      },
      "source": [
        "X1=input('enter X1 value')\n",
        "X2=input('enter X2 value')\n",
        "X3=input ('enter X3 value')\n",
        "print('X1=',X1)\n",
        "print('X2=',X2)\n",
        "print ('x3=',X3)\n",
        "Y=m1*float(X1)+m2*float(X2)+m3*float(X3)+c\n",
        "print('Y=',Y)"
      ],
      "execution_count": 49,
      "outputs": [
        {
          "output_type": "stream",
          "name": "stdout",
          "text": [
            "enter X1 value4000\n",
            "enter X2 value5000\n",
            "enter X3 value4500\n",
            "X1= 4000\n",
            "X2= 5000\n",
            "x3= 4500\n",
            "Y= 3122.3317510840366\n"
          ]
        }
      ]
    }
  ]
}