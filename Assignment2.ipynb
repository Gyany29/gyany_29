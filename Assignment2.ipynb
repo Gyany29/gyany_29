{
  "nbformat": 4,
  "nbformat_minor": 0,
  "metadata": {
    "colab": {
      "name": "Assignment2.ipynb",
      "provenance": [],
      "collapsed_sections": [],
      "authorship_tag": "ABX9TyNf7jBsQVniONcmWEsa12oy",
      "include_colab_link": true
    },
    "kernelspec": {
      "name": "python3",
      "display_name": "Python 3"
    },
    "language_info": {
      "name": "python"
    }
  },
  "cells": [
    {
      "cell_type": "markdown",
      "metadata": {
        "id": "view-in-github",
        "colab_type": "text"
      },
      "source": [
        "<a href=\"https://colab.research.google.com/github/Gyany29/gyany_29/blob/main/Assignment2.ipynb\" target=\"_parent\"><img src=\"https://colab.research.google.com/assets/colab-badge.svg\" alt=\"Open In Colab\"/></a>"
      ]
    },
    {
      "cell_type": "code",
      "metadata": {
        "colab": {
          "base_uri": "https://localhost:8080/"
        },
        "id": "VMQSGKtxOrfj",
        "outputId": "51f27855-87af-4d64-85f6-669d2cd7b38d"
      },
      "source": [
        "import numpy as np\n",
        "x=np.random.uniform(-10,10)\n",
        "eta=0.1\n",
        "iter=1\n",
        "epochs=100\n",
        "while iter<=epochs:\n",
        "  g_x=4*(x**3)+6*x\n",
        "  del_x=-(eta*g_x)\n",
        "  x=x+del_x\n",
        "  iter=iter+1\n",
        "obj=(x**4)+3*(x**2)+10\n",
        "print(round(x),obj)"
      ],
      "execution_count": null,
      "outputs": [
        {
          "output_type": "stream",
          "name": "stdout",
          "text": [
            "0 10.0\n"
          ]
        }
      ]
    },
    {
      "cell_type": "markdown",
      "metadata": {
        "id": "8qDfa-eyBhQa"
      },
      "source": [
        "STEP-1: Initialization\n",
        "--\n",
        "let random x value is -1\n",
        "\n",
        "eta=0.1\n",
        "\n",
        "iter=1\n",
        "\n",
        "epochs=100\n",
        "\n",
        "-------------------------------------\n",
        "STEP-2: Gradient \n",
        "--\n",
        "g_x=4*(x**3)+6*x\n",
        "\n",
        "g_x=4*(-1**3)+6*-1-------> g_x=-4-6=-10\n",
        "\n",
        "del_x=-(eta*g_x)=-(0.1*-10)=1\n",
        "\n",
        "x=x+del_x=-1+1=0\n",
        "\n",
        "iter=iter+1=2\n",
        "\n",
        "---------------------------------------\n",
        "\n",
        "x=0;\n",
        "\n",
        "iter=2:\n",
        "\n",
        "g_x=4*(0**3)+6*0=0\n",
        "\n",
        "del_x=-0.1*0\n",
        "\n",
        "x=0+0=0\n",
        "\n",
        "-------------------------------------\n",
        "value of x=0 value of function=10.\n"
      ]
    }
  ]
}