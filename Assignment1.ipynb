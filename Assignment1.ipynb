{
  "nbformat": 4,
  "nbformat_minor": 0,
  "metadata": {
    "colab": {
      "name": "Untitled0.ipynb",
      "provenance": [],
      "authorship_tag": "ABX9TyOU9dS9O66NDzv9N2GHTlfy",
      "include_colab_link": true
    },
    "kernelspec": {
      "name": "python3",
      "display_name": "Python 3"
    },
    "language_info": {
      "name": "python"
    }
  },
  "cells": [
    {
      "cell_type": "markdown",
      "metadata": {
        "id": "view-in-github",
        "colab_type": "text"
      },
      "source": [
        "<a href=\"https://colab.research.google.com/github/Gyany29/gyany_29/blob/main/Assignment1.ipynb\" target=\"_parent\"><img src=\"https://colab.research.google.com/assets/colab-badge.svg\" alt=\"Open In Colab\"/></a>"
      ]
    },
    {
      "cell_type": "code",
      "metadata": {
        "colab": {
          "base_uri": "https://localhost:8080/"
        },
        "id": "dyBeJQOsRR2d",
        "outputId": "0a84114a-67fa-4bf9-aeb5-5d5037bcf755"
      },
      "source": [
        "from scipy.optimize import linprog\n",
        "obj=[-50,-120]\n",
        "a=[[7000,2000],[10,30]]\n",
        "b=[700000,1200]\n",
        "bm=[(0,float('inf')),(0,float('inf'))]\n",
        "ans=linprog(c=obj,A_ub=a,b_ub=b,A_eq=None,b_eq=None,bounds=bm,method=\"Simplex\")\n",
        "print(\"Area of Wheat planted is \",round(ans.x[0]),\"hectares and Barley planted is \",round(ans.x[1]),\"hectares\")"
      ],
      "execution_count": 5,
      "outputs": [
        {
          "output_type": "stream",
          "text": [
            "Area of Wheat planted is  98 hectares and Barley planted is  7 hectares\n"
          ],
          "name": "stdout"
        }
      ]
    }
  ]
}