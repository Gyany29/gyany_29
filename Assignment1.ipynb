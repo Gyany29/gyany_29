{
  "nbformat": 4,
  "nbformat_minor": 0,
  "metadata": {
    "colab": {
      "name": "Assignment1.ipynb",
      "provenance": [],
      "authorship_tag": "ABX9TyPerR7zWBheDFnMYpQoQ3iW",
      "include_colab_link": true
    },
    "kernelspec": {
      "name": "python3",
      "display_name": "Python 3"
    },
    "language_info": {
      "name": "python"
    }
  },
  "cells": [
    {
      "cell_type": "markdown",
      "metadata": {
        "id": "view-in-github",
        "colab_type": "text"
      },
      "source": [
        "<a href=\"https://colab.research.google.com/github/Gyany29/gyany_29/blob/main/Assignment1.ipynb\" target=\"_parent\"><img src=\"https://colab.research.google.com/assets/colab-badge.svg\" alt=\"Open In Colab\"/></a>"
      ]
    },
    {
      "cell_type": "code",
      "metadata": {
        "colab": {
          "base_uri": "https://localhost:8080/"
        },
        "id": "QneUaHAxMG16",
        "outputId": "957613ba-4c5c-499f-9b8d-c1488fad7a70"
      },
      "source": [
        "from scipy.optimize import linprog\n",
        "obj=[-50,-120]\n",
        "a=[[7000,2000],[10,30]];\n",
        "b=[700000,1200];\n",
        "bndr=[(0,float('inf')),(0,float('inf'))]\n",
        "ans=linprog(c=obj ,A_ub=a,b_ub=b,A_eq=None,b_eq=None,bounds=bndr,method=\"Simplex\")\n",
        "print(\"Farmer has to plant Wheat in\" ,round(ans.x[0]),\"hectares\",end=\" \")\n",
        "print(\"and Barley in\",round(ans.x[1]),\"hectares to gain max profit\") "
      ],
      "execution_count": 1,
      "outputs": [
        {
          "output_type": "stream",
          "text": [
            "Farmer has to plant Wheat in 98 hectares and Barley in 7 hectares to gain max profit\n"
          ],
          "name": "stdout"
        }
      ]
    }
  ]
}