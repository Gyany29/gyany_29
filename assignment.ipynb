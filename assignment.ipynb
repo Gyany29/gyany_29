{
  "nbformat": 4,
  "nbformat_minor": 0,
  "metadata": {
    "colab": {
      "name": "assignment.ipynb",
      "provenance": [],
      "authorship_tag": "ABX9TyMhP/01WsN+FEnoBOoFW24n",
      "include_colab_link": true
    },
    "kernelspec": {
      "name": "python3",
      "display_name": "Python 3"
    },
    "language_info": {
      "name": "python"
    }
  },
  "cells": [
    {
      "cell_type": "markdown",
      "metadata": {
        "id": "view-in-github",
        "colab_type": "text"
      },
      "source": [
        "<a href=\"https://colab.research.google.com/github/Gyany29/gyany_29/blob/main/assignment.ipynb\" target=\"_parent\"><img src=\"https://colab.research.google.com/assets/colab-badge.svg\" alt=\"Open In Colab\"/></a>"
      ]
    },
    {
      "cell_type": "code",
      "metadata": {
        "colab": {
          "base_uri": "https://localhost:8080/"
        },
        "id": "IEUjolHepjTG",
        "outputId": "29a7ddc1-4b19-48a1-beaa-d2380448236b"
      },
      "source": [
        "from scipy.optimize import linprog\n",
        "obj=[-50,-120]\n",
        "a=[[7000,2000],[10,30]];\n",
        "b=[700000,1200];\n",
        "bndr=[(0,float('inf')),(0,float('inf'))]\n",
        "ans=linprog(c=obj ,A_eq=a,b_eq=b,A_ub=None,b_ub=None,bounds=bndr,method=\"Simplex\")\n",
        "print(\"Farmer has to plant Wheat in\" ,round(ans.x[0]),\"hectares\",end=\" \")\n",
        "print(\"and Barley in\",round(ans.x[1]),\"hectares to gain max profit\") "
      ],
      "execution_count": 13,
      "outputs": [
        {
          "output_type": "stream",
          "text": [
            "Farmer has to plant Wheat in 98 hectares and Barley in 7 hectares to gain max profit\n"
          ],
          "name": "stdout"
        }
      ]
    }
  ]
}