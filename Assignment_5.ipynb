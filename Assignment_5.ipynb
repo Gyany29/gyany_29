{
  "nbformat": 4,
  "nbformat_minor": 0,
  "metadata": {
    "colab": {
      "name": "Assignment--5",
      "provenance": [],
      "collapsed_sections": [],
      "include_colab_link": true
    },
    "kernelspec": {
      "name": "python3",
      "display_name": "Python 3"
    },
    "language_info": {
      "name": "python"
    }
  },
  "cells": [
    {
      "cell_type": "markdown",
      "metadata": {
        "id": "view-in-github",
        "colab_type": "text"
      },
      "source": [
        "<a href=\"https://colab.research.google.com/github/Gyany29/gyany_29/blob/main/Assignment_5.ipynb\" target=\"_parent\"><img src=\"https://colab.research.google.com/assets/colab-badge.svg\" alt=\"Open In Colab\"/></a>"
      ]
    },
    {
      "cell_type": "markdown",
      "metadata": {
        "id": "5MdJizwsDehp"
      },
      "source": [
        "#Mount Google Drive"
      ]
    },
    {
      "cell_type": "code",
      "metadata": {
        "colab": {
          "base_uri": "https://localhost:8080/"
        },
        "id": "jwLS59mfSKQz",
        "outputId": "d113059b-75e1-46b6-d8a4-71c7c5c72b51"
      },
      "source": [
        "from google.colab import drive\n",
        "drive.mount('/content/drive')"
      ],
      "execution_count": 19,
      "outputs": [
        {
          "output_type": "stream",
          "name": "stdout",
          "text": [
            "Drive already mounted at /content/drive; to attempt to forcibly remount, call drive.mount(\"/content/drive\", force_remount=True).\n"
          ]
        }
      ]
    },
    {
      "cell_type": "markdown",
      "metadata": {
        "id": "j7l_-n1eD4LN"
      },
      "source": [
        "#Import Libraries"
      ]
    },
    {
      "cell_type": "code",
      "metadata": {
        "id": "f6suMPUbTEw2"
      },
      "source": [
        "import numpy as np\n",
        "import math as mt\n",
        "import random\n",
        "import pandas as pd\n",
        "import sys"
      ],
      "execution_count": 20,
      "outputs": []
    },
    {
      "cell_type": "code",
      "metadata": {
        "id": "Fu8MvpcATfFz"
      },
      "source": [
        "from sklearn.model_selection import train_test_split\n",
        "from sklearn.metrics import mean_absolute_error,mean_squared_error\n",
        "c=-1\n",
        "eeta=0.1\n",
        "max_iter=1000\n",
        "import warnings\n",
        "warnings.filterwarnings('ignore')"
      ],
      "execution_count": 21,
      "outputs": []
    },
    {
      "cell_type": "markdown",
      "metadata": {
        "id": "dtfcVt1XD6YA"
      },
      "source": [
        "#Load Data"
      ]
    },
    {
      "cell_type": "code",
      "metadata": {
        "colab": {
          "base_uri": "https://localhost:8080/",
          "height": 203
        },
        "id": "p46pNdy6UbCo",
        "outputId": "6364d6c7-13e3-4d07-e60e-edb50c6dc9e4"
      },
      "source": [
        "data = pd.read_csv('/content/drive/MyDrive/assi5.csv')\n",
        "data.head()"
      ],
      "execution_count": 26,
      "outputs": [
        {
          "output_type": "execute_result",
          "data": {
            "text/html": [
              "<div>\n",
              "<style scoped>\n",
              "    .dataframe tbody tr th:only-of-type {\n",
              "        vertical-align: middle;\n",
              "    }\n",
              "\n",
              "    .dataframe tbody tr th {\n",
              "        vertical-align: top;\n",
              "    }\n",
              "\n",
              "    .dataframe thead th {\n",
              "        text-align: right;\n",
              "    }\n",
              "</style>\n",
              "<table border=\"1\" class=\"dataframe\">\n",
              "  <thead>\n",
              "    <tr style=\"text-align: right;\">\n",
              "      <th></th>\n",
              "      <th>Date</th>\n",
              "      <th>Time</th>\n",
              "      <th>Load (kW)</th>\n",
              "    </tr>\n",
              "  </thead>\n",
              "  <tbody>\n",
              "    <tr>\n",
              "      <th>0</th>\n",
              "      <td>01.09.2018</td>\n",
              "      <td>00:00</td>\n",
              "      <td>5551.82208</td>\n",
              "    </tr>\n",
              "    <tr>\n",
              "      <th>1</th>\n",
              "      <td>NaN</td>\n",
              "      <td>01:00</td>\n",
              "      <td>4983.17184</td>\n",
              "    </tr>\n",
              "    <tr>\n",
              "      <th>2</th>\n",
              "      <td>NaN</td>\n",
              "      <td>02:00</td>\n",
              "      <td>4888.39680</td>\n",
              "    </tr>\n",
              "    <tr>\n",
              "      <th>3</th>\n",
              "      <td>NaN</td>\n",
              "      <td>03:00</td>\n",
              "      <td>5072.95872</td>\n",
              "    </tr>\n",
              "    <tr>\n",
              "      <th>4</th>\n",
              "      <td>NaN</td>\n",
              "      <td>04:00</td>\n",
              "      <td>5196.25980</td>\n",
              "    </tr>\n",
              "  </tbody>\n",
              "</table>\n",
              "</div>"
            ],
            "text/plain": [
              "         Date   Time   Load (kW)\n",
              "0  01.09.2018  00:00  5551.82208\n",
              "1         NaN  01:00  4983.17184\n",
              "2         NaN  02:00  4888.39680\n",
              "3         NaN  03:00  5072.95872\n",
              "4         NaN  04:00  5196.25980"
            ]
          },
          "metadata": {},
          "execution_count": 26
        }
      ]
    },
    {
      "cell_type": "code",
      "metadata": {
        "id": "w1uXHfUBUpLQ"
      },
      "source": [
        "X1=[]\n",
        "X2=[]\n",
        "X3=[]\n",
        "Y=[]\n",
        "data=data['Load (kW)']\n",
        "for i in range(3,data.shape[0]):\n",
        "     X1.append(data.iloc[i-3])\n",
        "     X2.append(data.iloc[i-2])\n",
        "     X3.append(data.iloc[i-1])\n",
        "     Y.append(data.iloc[i])"
      ],
      "execution_count": 27,
      "outputs": []
    },
    {
      "cell_type": "code",
      "metadata": {
        "colab": {
          "base_uri": "https://localhost:8080/",
          "height": 203
        },
        "id": "d6iH1sKjVKkM",
        "outputId": "4ec0fc5a-032f-4f8a-deca-2bf4b67b99dc"
      },
      "source": [
        "data=pd.DataFrame({'L-3':X1,'L-2':X2,'L-1':X3,'L':Y})\n",
        "data.head()"
      ],
      "execution_count": 28,
      "outputs": [
        {
          "output_type": "execute_result",
          "data": {
            "text/html": [
              "<div>\n",
              "<style scoped>\n",
              "    .dataframe tbody tr th:only-of-type {\n",
              "        vertical-align: middle;\n",
              "    }\n",
              "\n",
              "    .dataframe tbody tr th {\n",
              "        vertical-align: top;\n",
              "    }\n",
              "\n",
              "    .dataframe thead th {\n",
              "        text-align: right;\n",
              "    }\n",
              "</style>\n",
              "<table border=\"1\" class=\"dataframe\">\n",
              "  <thead>\n",
              "    <tr style=\"text-align: right;\">\n",
              "      <th></th>\n",
              "      <th>L-3</th>\n",
              "      <th>L-2</th>\n",
              "      <th>L-1</th>\n",
              "      <th>L</th>\n",
              "    </tr>\n",
              "  </thead>\n",
              "  <tbody>\n",
              "    <tr>\n",
              "      <th>0</th>\n",
              "      <td>5551.82208</td>\n",
              "      <td>4983.17184</td>\n",
              "      <td>4888.39680</td>\n",
              "      <td>5072.95872</td>\n",
              "    </tr>\n",
              "    <tr>\n",
              "      <th>1</th>\n",
              "      <td>4983.17184</td>\n",
              "      <td>4888.39680</td>\n",
              "      <td>5072.95872</td>\n",
              "      <td>5196.25980</td>\n",
              "    </tr>\n",
              "    <tr>\n",
              "      <th>2</th>\n",
              "      <td>4888.39680</td>\n",
              "      <td>5072.95872</td>\n",
              "      <td>5196.25980</td>\n",
              "      <td>5641.29720</td>\n",
              "    </tr>\n",
              "    <tr>\n",
              "      <th>3</th>\n",
              "      <td>5072.95872</td>\n",
              "      <td>5196.25980</td>\n",
              "      <td>5641.29720</td>\n",
              "      <td>7153.17732</td>\n",
              "    </tr>\n",
              "    <tr>\n",
              "      <th>4</th>\n",
              "      <td>5196.25980</td>\n",
              "      <td>5641.29720</td>\n",
              "      <td>7153.17732</td>\n",
              "      <td>7849.80504</td>\n",
              "    </tr>\n",
              "  </tbody>\n",
              "</table>\n",
              "</div>"
            ],
            "text/plain": [
              "          L-3         L-2         L-1           L\n",
              "0  5551.82208  4983.17184  4888.39680  5072.95872\n",
              "1  4983.17184  4888.39680  5072.95872  5196.25980\n",
              "2  4888.39680  5072.95872  5196.25980  5641.29720\n",
              "3  5072.95872  5196.25980  5641.29720  7153.17732\n",
              "4  5196.25980  5641.29720  7153.17732  7849.80504"
            ]
          },
          "metadata": {},
          "execution_count": 28
        }
      ]
    },
    {
      "cell_type": "markdown",
      "metadata": {
        "id": "2O3B7-qrEK1r"
      },
      "source": [
        "#Normalization"
      ]
    },
    {
      "cell_type": "code",
      "metadata": {
        "colab": {
          "base_uri": "https://localhost:8080/",
          "height": 203
        },
        "id": "uvf08M_KVWgc",
        "outputId": "e0d480bf-4663-4357-c859-46fc57680c0a"
      },
      "source": [
        "def normalize(column):\n",
        "    c_max,c_min=np.max(column),np.min(column)\n",
        "    for i in range(len(column)):\n",
        "        column.iloc[i]=(column.iloc[i]-c_min)/(c_max-c_min)\n",
        "    return c_max,c_min\n",
        "x1max,x1min=normalize(data['L-3'])\n",
        "x2max,x2min=normalize(data['L-2'])\n",
        "x3max,x3min=normalize(data['L-1'])\n",
        "ymax,ymin=normalize(data['L'])\n",
        "data.head()"
      ],
      "execution_count": 30,
      "outputs": [
        {
          "output_type": "execute_result",
          "data": {
            "text/html": [
              "<div>\n",
              "<style scoped>\n",
              "    .dataframe tbody tr th:only-of-type {\n",
              "        vertical-align: middle;\n",
              "    }\n",
              "\n",
              "    .dataframe tbody tr th {\n",
              "        vertical-align: top;\n",
              "    }\n",
              "\n",
              "    .dataframe thead th {\n",
              "        text-align: right;\n",
              "    }\n",
              "</style>\n",
              "<table border=\"1\" class=\"dataframe\">\n",
              "  <thead>\n",
              "    <tr style=\"text-align: right;\">\n",
              "      <th></th>\n",
              "      <th>L-3</th>\n",
              "      <th>L-2</th>\n",
              "      <th>L-1</th>\n",
              "      <th>L</th>\n",
              "    </tr>\n",
              "  </thead>\n",
              "  <tbody>\n",
              "    <tr>\n",
              "      <th>0</th>\n",
              "      <td>0.397877</td>\n",
              "      <td>0.293800</td>\n",
              "      <td>0.276454</td>\n",
              "      <td>0.310234</td>\n",
              "    </tr>\n",
              "    <tr>\n",
              "      <th>1</th>\n",
              "      <td>0.293800</td>\n",
              "      <td>0.276454</td>\n",
              "      <td>0.310234</td>\n",
              "      <td>0.332801</td>\n",
              "    </tr>\n",
              "    <tr>\n",
              "      <th>2</th>\n",
              "      <td>0.276454</td>\n",
              "      <td>0.310234</td>\n",
              "      <td>0.332801</td>\n",
              "      <td>0.414254</td>\n",
              "    </tr>\n",
              "    <tr>\n",
              "      <th>3</th>\n",
              "      <td>0.310234</td>\n",
              "      <td>0.332801</td>\n",
              "      <td>0.414254</td>\n",
              "      <td>0.690965</td>\n",
              "    </tr>\n",
              "    <tr>\n",
              "      <th>4</th>\n",
              "      <td>0.332801</td>\n",
              "      <td>0.414254</td>\n",
              "      <td>0.690965</td>\n",
              "      <td>0.818465</td>\n",
              "    </tr>\n",
              "  </tbody>\n",
              "</table>\n",
              "</div>"
            ],
            "text/plain": [
              "        L-3       L-2       L-1         L\n",
              "0  0.397877  0.293800  0.276454  0.310234\n",
              "1  0.293800  0.276454  0.310234  0.332801\n",
              "2  0.276454  0.310234  0.332801  0.414254\n",
              "3  0.310234  0.332801  0.414254  0.690965\n",
              "4  0.332801  0.414254  0.690965  0.818465"
            ]
          },
          "metadata": {},
          "execution_count": 30
        }
      ]
    },
    {
      "cell_type": "markdown",
      "metadata": {
        "id": "Qd0CruR9EQbo"
      },
      "source": [
        "#Missing Values Treatment"
      ]
    },
    {
      "cell_type": "code",
      "metadata": {
        "colab": {
          "base_uri": "https://localhost:8080/"
        },
        "id": "sjFhrXyXVgVn",
        "outputId": "35cf26e9-9169-45d8-b672-84f782aa1b05"
      },
      "source": [
        "data.isnull().sum()"
      ],
      "execution_count": 8,
      "outputs": [
        {
          "output_type": "execute_result",
          "data": {
            "text/plain": [
              "L(T-3)    0\n",
              "L(T-2)    0\n",
              "L(T-1)    0\n",
              "L(T)      0\n",
              "dtype: int64"
            ]
          },
          "metadata": {},
          "execution_count": 8
        }
      ]
    },
    {
      "cell_type": "markdown",
      "metadata": {
        "id": "Kk7Gph1NERsd"
      },
      "source": [
        "#Data Split"
      ]
    },
    {
      "cell_type": "code",
      "metadata": {
        "id": "70FgxpTCVsWP"
      },
      "source": [
        "X=data[['L-3','L-2','L-1']]\n",
        "Y=data['L']\n",
        "Xtrain,Xtest,Ytrain,Ytest=train_test_split(X,Y,test_size=0.1,random_state=101)"
      ],
      "execution_count": 31,
      "outputs": []
    },
    {
      "cell_type": "markdown",
      "metadata": {
        "id": "8Vc59KPyEVOQ"
      },
      "source": [
        "#Training Using Stochastic Gradient Descent Optimizer"
      ]
    },
    {
      "cell_type": "code",
      "metadata": {
        "colab": {
          "base_uri": "https://localhost:8080/"
        },
        "id": "qbNDJr3LWcVV",
        "outputId": "f0d523c8-56c4-4955-d977-2c734eba5586"
      },
      "source": [
        "m=[np.random.uniform(-10,10) for i in range (Xtrain.shape[1])]\n",
        "c=np.random.uniform(-10,10)\n",
        "epochs=500\n",
        "for _ in range (epochs):\n",
        "    for i in range (Xtrain.shape[0]):\n",
        "     Y,Ypred=Ytrain.iloc[i],sum([Xtrain.iat[i,z]*m[z] for z in range(Xtrain.shape[1])])\n",
        "     gradm=[-1*Xtrain.iat[i,j]*(Y-Ypred-c) for j in range(Xtrain.shape[1])]\n",
        "     gradc=-1*(Y-Ypred-c)\n",
        "     c=c-eeta*gradc\n",
        "     for j in range (len(m)):\n",
        "        m[j]=m[j]-eeta*gradm[j]\n",
        "print (m,c)\n",
        "m1=m[0]\n",
        "m2=m[1]\n",
        "m3=m[2]"
      ],
      "execution_count": 10,
      "outputs": [
        {
          "output_type": "stream",
          "name": "stdout",
          "text": [
            "[-0.23128366799983116, -0.007745238430485217, 0.9080113730757409] 0.14143639495293983\n"
          ]
        }
      ]
    },
    {
      "cell_type": "markdown",
      "metadata": {
        "id": "gdW7dYEZFrI8"
      },
      "source": [
        "#Model Prediction on Training Data"
      ]
    },
    {
      "cell_type": "code",
      "metadata": {
        "id": "UQr-bU_ZXInp"
      },
      "source": [
        "y_pred_train = []\n",
        "for sample in range(Xtrain.shape[0]):\n",
        "  y_p_tr = (m[0] * Xtrain.iat[sample,0]) + c + (m[1] *Xtrain.iat[sample,1] )+(m[2]*Xtrain.iat[sample,2])\n",
        "  y_pred_train.append(y_p_tr)"
      ],
      "execution_count": 11,
      "outputs": []
    },
    {
      "cell_type": "markdown",
      "metadata": {
        "id": "3ZbJYrh6Ft9o"
      },
      "source": [
        "#Model Prediction on Testing Data"
      ]
    },
    {
      "cell_type": "code",
      "metadata": {
        "id": "sGI8K4ELXN2a"
      },
      "source": [
        "y_pred_test = []\n",
        "for sample in range(Xtest.shape[0]):\n",
        "  y_p_te = (m[0] * Xtest.iat[sample,0]) + c + (m[1] * Xtest.iat[sample,1])+(m[2]*Xtest.iat[sample,2])\n",
        "  y_pred_test.append(y_p_te)"
      ],
      "execution_count": 12,
      "outputs": []
    },
    {
      "cell_type": "markdown",
      "metadata": {
        "id": "4pt0D70NFxJC"
      },
      "source": [
        "#DeNormalization"
      ]
    },
    {
      "cell_type": "code",
      "metadata": {
        "id": "8KtUihYnXTr7"
      },
      "source": [
        "#Denormalize\n",
        "Xtrain['L-3']=Xtrain['L-3']*(x1max-x1min)+x1min\n",
        "Xtrain ['L-2']=Xtrain ['L-2']*(x2max-x2min)+x2min\n",
        "Xtrain ['L-1']=Xtrain ['L-1']*(x3max-x2min)+x3min\n",
        "Ytrain=Ytrain*(ymax-ymin)+ymin\n",
        "Xtest['L-3']=Xtest['L-3']*(x1max-x1min)+x1min\n",
        "Xtest['L-3']=Xtest['L-2']*(x2max-x2min)+x2min\n",
        "Xtest['L-3']=Xtest['L-1']*(x3max-x3min)+x3min\n",
        "Ytest=Ytest*(ymax-ymin)+ymin\n",
        "y_pred_train=np.multiply(y_pred_train,(ymax-ymin)+ymin)\n",
        "y_pred_test=np.multiply(y_pred_test,(ymax-ymin)+ymin)"
      ],
      "execution_count": 13,
      "outputs": []
    },
    {
      "cell_type": "markdown",
      "metadata": {
        "id": "R78cG874F0qV"
      },
      "source": [
        "#Error Metrics Calculation"
      ]
    },
    {
      "cell_type": "code",
      "metadata": {
        "colab": {
          "base_uri": "https://localhost:8080/"
        },
        "id": "wOwqrYKvXcwZ",
        "outputId": "581e4b3c-903d-4ff6-d4e5-ddbfb2aafd57"
      },
      "source": [
        "import math\n",
        "from sklearn.metrics import mean_squared_error \n",
        "from sklearn.metrics import mean_absolute_error\n",
        "\n",
        "\n",
        "#Training Accuracies\n",
        "rmse = math.sqrt(mean_squared_error(y_pred_train, Ytrain)) \n",
        "print('Root mean square error', rmse) \n",
        "mse = (mean_squared_error(y_pred_train,Ytrain)) \n",
        "print('Mean square error', mse) \n",
        "mae=mean_absolute_error(y_pred_train,Ytrain)\n",
        "print('Mean absolute error', mae)\n",
        "\n",
        "\n",
        "#Testing Accuracies\n",
        "rmse = math.sqrt(mean_squared_error(y_pred_test,Ytest )) \n",
        "print('Root mean square error', rmse) \n",
        "mse = (mean_squared_error(y_pred_test,Ytest))\n",
        "print('Mean square error', mse) \n",
        "mae=mean_absolute_error(y_pred_test,Ytest)\n",
        "print('Mean absolute error', mae)"
      ],
      "execution_count": 14,
      "outputs": [
        {
          "output_type": "stream",
          "name": "stdout",
          "text": [
            "Root mean square error 2090.4082757029023\n",
            "Mean square error 4369806.759127181\n",
            "Mean absolute error 1938.1202257508608\n",
            "Root mean square error 2006.2398474392332\n",
            "Mean square error 4024998.3254529983\n",
            "Mean absolute error 1853.1714421302995\n"
          ]
        }
      ]
    },
    {
      "cell_type": "markdown",
      "metadata": {
        "id": "XJxYsn_8FkbG"
      },
      "source": [
        "#Deployment"
      ]
    },
    {
      "cell_type": "code",
      "metadata": {
        "colab": {
          "base_uri": "https://localhost:8080/"
        },
        "id": "1H3WJd7rXx-M",
        "outputId": "109e6037-374e-45b0-8184-40a1d8a8b5c5"
      },
      "source": [
        "X1=input('enter X1 value')\n",
        "X2=input('enter X2 value')\n",
        "X3=input ('enter X3 value')\n",
        "print('X1=',X1)\n",
        "print('X2=',X2)\n",
        "print ('x3=',X3)\n",
        "Y=m1*float(X1)+m2*float(X2)+m3*float(X3)+c\n",
        "print('Y=',Y)"
      ],
      "execution_count": 16,
      "outputs": [
        {
          "output_type": "stream",
          "name": "stdout",
          "text": [
            "enter X1 value5024\n",
            "enter X2 value4972\n",
            "enter X3 value5208\n",
            "X1= 5024\n",
            "X2= 4972\n",
            "x3= 5208\n",
            "Y= 3528.5861938658873\n"
          ]
        }
      ]
    }
  ]
}